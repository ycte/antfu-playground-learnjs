{
 "cells": [
  {
   "cell_type": "markdown",
   "metadata": {},
   "source": [
    "#### 1. yield 生成器 && iter 迭代器"
   ]
  },
  {
   "cell_type": "code",
   "execution_count": 3,
   "metadata": {},
   "outputs": [
    {
     "name": "stdout",
     "output_type": "stream",
     "text": [
      "3\n",
      "2\n",
      "1\n",
      "久等了，我的伏兵们！\n",
      "3\n",
      "2\n",
      "1\n",
      "久等了，我的伏兵们！\n"
     ]
    }
   ],
   "source": [
    "# yield\n",
    "def 心海登场():\n",
    "  for i in range(1, 4):\n",
    "    yield 4-i\n",
    "  yield \"久等了，我的伏兵们！\"\n",
    "\n",
    "心海登场 = 心海登场()\n",
    "for step in 心海登场:\n",
    "  print(step)\n",
    "\n",
    "# iter\n",
    "心海登场步骤 = [3, 2, 1, \"久等了，我的伏兵们！\"]\n",
    "心海登场 = iter(心海登场步骤)\n",
    "for step in 心海登场:\n",
    "  print(step)"
   ]
  },
  {
   "cell_type": "markdown",
   "metadata": {},
   "source": [
    "#### 2. python 类的调试\n",
    "JavaScript 万物皆对象，Python 万物皆对象，Java 万物皆对象，JavaScript 对象是类，Python 对象是类，Java 对象是类。阿巴阿巴。"
   ]
  },
  {
   "cell_type": "code",
   "execution_count": null,
   "metadata": {},
   "outputs": [],
   "source": [
    "# # 查看类的方法\n",
    "# rowFlag = 0\n",
    "# for method in dir(list):\n",
    "#   # 输出 method，格式化为 25 个字符\n",
    "#   print(\"{:<18}\".format(method), end=\"\")\n",
    "#   rowFlag += 1\n",
    "#   if rowFlag % 4 == 0:\n",
    "#     print()\n",
    "\n",
    "# import inspect\n",
    "# print(inspect.getmembers(list).__len__())\n",
    "# for member in inspect.getmembers(list):\n",
    "#   print(member)"
   ]
  },
  {
   "cell_type": "markdown",
   "metadata": {},
   "source": [
    "#### 3. request"
   ]
  },
  {
   "cell_type": "code",
   "execution_count": 20,
   "metadata": {},
   "outputs": [
    {
     "name": "stdout",
     "output_type": "stream",
     "text": [
      "<Response [200]>\n"
     ]
    }
   ],
   "source": [
    "import requests\n",
    "\n",
    "req = requests.get(\"https://www.baidu.com\")\n",
    "print(req)"
   ]
  }
 ],
 "metadata": {
  "kernelspec": {
   "display_name": "Python 3",
   "language": "python",
   "name": "python3"
  },
  "language_info": {
   "codemirror_mode": {
    "name": "ipython",
    "version": 3
   },
   "file_extension": ".py",
   "mimetype": "text/x-python",
   "name": "python",
   "nbconvert_exporter": "python",
   "pygments_lexer": "ipython3",
   "version": "3.11.0"
  }
 },
 "nbformat": 4,
 "nbformat_minor": 2
}
